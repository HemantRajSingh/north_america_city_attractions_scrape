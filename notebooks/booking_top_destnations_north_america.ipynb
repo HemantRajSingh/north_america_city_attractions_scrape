{
 "cells": [
  {
   "cell_type": "code",
   "execution_count": 8,
   "metadata": {},
   "outputs": [],
   "source": [
    "from bs4 import BeautifulSoup\n",
    "import requests\n",
    "import pandas as pd\n",
    "\n",
    "#impoer selenium\n",
    "from selenium import webdriver\n",
    "from selenium.webdriver.common.keys import Keys\n",
    "from selenium.webdriver.common.by import By\n",
    "from selenium.webdriver.support import expected_conditions as EC\n",
    "from selenium.webdriver.support.ui import WebDriverWait\n",
    "from selenium.common.exceptions import TimeoutException\n",
    "import time"
   ]
  },
  {
   "cell_type": "code",
   "execution_count": 9,
   "metadata": {},
   "outputs": [
    {
     "data": {
      "text/plain": [
       "'https://www.booking.com/attractions/index.en-gb.html'"
      ]
     },
     "execution_count": 9,
     "metadata": {},
     "output_type": "execute_result"
    }
   ],
   "source": [
    "base_url = 'https://www.booking.com'\n",
    "attractions_url = base_url + \"/attractions/index.en-gb.html\"\n",
    "attractions_url"
   ]
  },
  {
   "cell_type": "code",
   "execution_count": 10,
   "metadata": {},
   "outputs": [],
   "source": [
    "# load url in selenium\n",
    "driver = webdriver.Chrome()\n",
    "driver.get(attractions_url)"
   ]
  },
  {
   "cell_type": "code",
   "execution_count": 11,
   "metadata": {},
   "outputs": [],
   "source": [
    "wait = WebDriverWait(driver, 10)"
   ]
  },
  {
   "cell_type": "code",
   "execution_count": 12,
   "metadata": {},
   "outputs": [],
   "source": [
    "see_more = wait.until(EC.element_to_be_clickable((By.CSS_SELECTOR, '.css-1kke6ep .b4db3523c5.a861df9be1 button.a83ed08757.f3441ccb97.ec66406250[aria-controls=\"1\"]')))\n",
    "driver.execute_script(\"arguments[0].scrollIntoView();\", see_more)\n",
    "time.sleep(2)  \n",
    "driver.execute_script(\"arguments[0].click();\", see_more)\n",
    "time.sleep(10)"
   ]
  },
  {
   "cell_type": "code",
   "execution_count": 13,
   "metadata": {},
   "outputs": [],
   "source": [
    "soup = BeautifulSoup(driver.page_source, 'html.parser')"
   ]
  },
  {
   "cell_type": "code",
   "execution_count": 14,
   "metadata": {},
   "outputs": [
    {
     "data": {
      "text/plain": [
       "[<li class=\"css-11mgtht\"><div class=\"css-v2kfba\"><div class=\"intersection-visible-wrapper\"><a class=\"css-1o507bj\" href=\"/attractions/searchresults/us/new-york.en-gb.html?source=attractions_index_open_shop\" title=\"New York\"><div class=\"css-dz1uy1\"><img alt=\"\" class=\"css-3ilzvz\" src=\"https://q-xx.bstatic.com/xdata/images/city/533x300/977435.jpg?k=ed701a5e2548cde3b7b819c951e57aa6529d9359bf1cd8a8cf1de57a78c2c122&amp;o=\"/></div><div class=\"c651ca389e fa2bb6146b\"><div class=\"ba9417274c\"><div class=\"a089bea0a0\"><div class=\"bcdcb105b3\">New York</div><div class=\"abf093bdfe\">1344 things to do</div></div></div></div></a></div></div></li>,\n",
       " <li class=\"css-11mgtht\"><div class=\"css-v2kfba\"><div class=\"intersection-visible-wrapper\"><a class=\"css-1o507bj\" href=\"/attractions/searchresults/us/las-vegas.en-gb.html?source=attractions_index_open_shop\" title=\"Las Vegas\"><div class=\"css-dz1uy1\"><img alt=\"\" class=\"css-3ilzvz\" src=\"https://q-xx.bstatic.com/xdata/images/city/533x300/977412.jpg?k=1b13db0f4340c5e81e5664b19521e38e2706c42ed2ae888ff5e74aa376ddab32&amp;o=\"/></div><div class=\"c651ca389e fa2bb6146b\"><div class=\"ba9417274c\"><div class=\"a089bea0a0\"><div class=\"bcdcb105b3\">Las Vegas</div><div class=\"abf093bdfe\">681 things to do</div></div></div></div></a></div></div></li>]"
      ]
     },
     "execution_count": 14,
     "metadata": {},
     "output_type": "execute_result"
    }
   ],
   "source": [
    "destinations = soup.find_all('li', class_='css-11mgtht')\n",
    "destinations[:2]"
   ]
  },
  {
   "cell_type": "code",
   "execution_count": 15,
   "metadata": {},
   "outputs": [
    {
     "data": {
      "text/plain": [
       "'/attractions/searchresults/us/new-york.en-gb.html?source=attractions_index_open_shop'"
      ]
     },
     "execution_count": 15,
     "metadata": {},
     "output_type": "execute_result"
    }
   ],
   "source": [
    "destinations[0].find('a')['href']"
   ]
  },
  {
   "cell_type": "code",
   "execution_count": 16,
   "metadata": {},
   "outputs": [],
   "source": [
    "destinations_urls = []\n",
    "for destination in destinations:\n",
    "    destinations_urls.append({\n",
    "        'name': destination.find('div', class_='bcdcb105b3').text,\n",
    "        'link' : destination.find('a')['href']\n",
    "    })"
   ]
  },
  {
   "cell_type": "code",
   "execution_count": 17,
   "metadata": {},
   "outputs": [
    {
     "data": {
      "text/plain": [
       "77"
      ]
     },
     "execution_count": 17,
     "metadata": {},
     "output_type": "execute_result"
    }
   ],
   "source": [
    "len(destinations_urls)"
   ]
  },
  {
   "cell_type": "code",
   "execution_count": 24,
   "metadata": {},
   "outputs": [
    {
     "data": {
      "text/plain": [
       "[{'name': 'New York',\n",
       "  'link': '/attractions/searchresults/us/new-york.en-gb.html?source=attractions_index_open_shop'},\n",
       " {'name': 'Las Vegas',\n",
       "  'link': '/attractions/searchresults/us/las-vegas.en-gb.html?source=attractions_index_open_shop'}]"
      ]
     },
     "execution_count": 24,
     "metadata": {},
     "output_type": "execute_result"
    }
   ],
   "source": [
    "destinations_urls[:2]"
   ]
  },
  {
   "cell_type": "code",
   "execution_count": 25,
   "metadata": {},
   "outputs": [
    {
     "data": {
      "text/html": [
       "<div>\n",
       "<style scoped>\n",
       "    .dataframe tbody tr th:only-of-type {\n",
       "        vertical-align: middle;\n",
       "    }\n",
       "\n",
       "    .dataframe tbody tr th {\n",
       "        vertical-align: top;\n",
       "    }\n",
       "\n",
       "    .dataframe thead th {\n",
       "        text-align: right;\n",
       "    }\n",
       "</style>\n",
       "<table border=\"1\" class=\"dataframe\">\n",
       "  <thead>\n",
       "    <tr style=\"text-align: right;\">\n",
       "      <th></th>\n",
       "      <th>name</th>\n",
       "      <th>link</th>\n",
       "    </tr>\n",
       "  </thead>\n",
       "  <tbody>\n",
       "    <tr>\n",
       "      <th>0</th>\n",
       "      <td>New York</td>\n",
       "      <td>/attractions/searchresults/us/new-york.en-gb.h...</td>\n",
       "    </tr>\n",
       "    <tr>\n",
       "      <th>1</th>\n",
       "      <td>Las Vegas</td>\n",
       "      <td>/attractions/searchresults/us/las-vegas.en-gb....</td>\n",
       "    </tr>\n",
       "    <tr>\n",
       "      <th>2</th>\n",
       "      <td>Key West</td>\n",
       "      <td>/attractions/searchresults/us/key-west.en-gb.h...</td>\n",
       "    </tr>\n",
       "    <tr>\n",
       "      <th>3</th>\n",
       "      <td>San Diego</td>\n",
       "      <td>/attractions/searchresults/us/san-diego.en-gb....</td>\n",
       "    </tr>\n",
       "    <tr>\n",
       "      <th>4</th>\n",
       "      <td>Miami</td>\n",
       "      <td>/attractions/searchresults/us/miami.en-gb.html...</td>\n",
       "    </tr>\n",
       "  </tbody>\n",
       "</table>\n",
       "</div>"
      ],
      "text/plain": [
       "        name                                               link\n",
       "0   New York  /attractions/searchresults/us/new-york.en-gb.h...\n",
       "1  Las Vegas  /attractions/searchresults/us/las-vegas.en-gb....\n",
       "2   Key West  /attractions/searchresults/us/key-west.en-gb.h...\n",
       "3  San Diego  /attractions/searchresults/us/san-diego.en-gb....\n",
       "4      Miami  /attractions/searchresults/us/miami.en-gb.html..."
      ]
     },
     "execution_count": 25,
     "metadata": {},
     "output_type": "execute_result"
    }
   ],
   "source": [
    "# convert destinations_urls to a dataframe\n",
    "df_destinations = pd.DataFrame(destinations_urls)\n",
    "df_destinations.head()"
   ]
  },
  {
   "cell_type": "code",
   "execution_count": 27,
   "metadata": {},
   "outputs": [],
   "source": [
    "df_destinations.to_csv('booking_urls.csv', index=False)"
   ]
  },
  {
   "cell_type": "markdown",
   "metadata": {},
   "source": [
    "# Scrape individual locations"
   ]
  },
  {
   "cell_type": "code",
   "execution_count": 34,
   "metadata": {},
   "outputs": [
    {
     "data": {
      "text/html": [
       "<div>\n",
       "<style scoped>\n",
       "    .dataframe tbody tr th:only-of-type {\n",
       "        vertical-align: middle;\n",
       "    }\n",
       "\n",
       "    .dataframe tbody tr th {\n",
       "        vertical-align: top;\n",
       "    }\n",
       "\n",
       "    .dataframe thead th {\n",
       "        text-align: right;\n",
       "    }\n",
       "</style>\n",
       "<table border=\"1\" class=\"dataframe\">\n",
       "  <thead>\n",
       "    <tr style=\"text-align: right;\">\n",
       "      <th></th>\n",
       "      <th>name</th>\n",
       "      <th>link</th>\n",
       "    </tr>\n",
       "  </thead>\n",
       "  <tbody>\n",
       "    <tr>\n",
       "      <th>0</th>\n",
       "      <td>New York</td>\n",
       "      <td>/attractions/searchresults/us/new-york.en-gb.h...</td>\n",
       "    </tr>\n",
       "    <tr>\n",
       "      <th>1</th>\n",
       "      <td>Las Vegas</td>\n",
       "      <td>/attractions/searchresults/us/las-vegas.en-gb....</td>\n",
       "    </tr>\n",
       "    <tr>\n",
       "      <th>2</th>\n",
       "      <td>Key West</td>\n",
       "      <td>/attractions/searchresults/us/key-west.en-gb.h...</td>\n",
       "    </tr>\n",
       "    <tr>\n",
       "      <th>3</th>\n",
       "      <td>San Diego</td>\n",
       "      <td>/attractions/searchresults/us/san-diego.en-gb....</td>\n",
       "    </tr>\n",
       "    <tr>\n",
       "      <th>4</th>\n",
       "      <td>Miami</td>\n",
       "      <td>/attractions/searchresults/us/miami.en-gb.html...</td>\n",
       "    </tr>\n",
       "  </tbody>\n",
       "</table>\n",
       "</div>"
      ],
      "text/plain": [
       "        name                                               link\n",
       "0   New York  /attractions/searchresults/us/new-york.en-gb.h...\n",
       "1  Las Vegas  /attractions/searchresults/us/las-vegas.en-gb....\n",
       "2   Key West  /attractions/searchresults/us/key-west.en-gb.h...\n",
       "3  San Diego  /attractions/searchresults/us/san-diego.en-gb....\n",
       "4      Miami  /attractions/searchresults/us/miami.en-gb.html..."
      ]
     },
     "execution_count": 34,
     "metadata": {},
     "output_type": "execute_result"
    }
   ],
   "source": [
    "df = pd.read_csv('booking_urls.csv')\n",
    "df.head()"
   ]
  },
  {
   "cell_type": "code",
   "execution_count": 35,
   "metadata": {},
   "outputs": [],
   "source": [
    "def scrape_single_attraction(soup):\n",
    "    name = soup.find('h3', class_='css-33m8bc')\n",
    "    name = name.text if name is not None else \"\"\n",
    "    description = soup.find('div', class_='css-6k49yo css-6k49yo')\n",
    "    description = description.text if description is not None else \"\"\n",
    "    duration = soup.find('div', class_='a53cbfa6de css-j786b1')\n",
    "    duration = duration.text if duration is not None else \"\"\n",
    "    rating = soup.find('span', class_='a53cbfa6de css-35ezg3')\n",
    "    rating = rating.text if rating is not None else \"\"\n",
    "    reviews = soup.find('span', class_='a53cbfa6de')\n",
    "    reviews = reviews.text if reviews is not None else \"\"\n",
    "    price = soup.find('div', class_='e1eebb6a1e css-13pzcpe')\n",
    "    price = price.text if price is not None else \"\"\n",
    "    link = soup.find('a', class_='css-i6rjpg')\n",
    "    link = link.href if link is not None else \"\"\n",
    "    \n",
    "    attraction = {\n",
    "        'name': name,\n",
    "        'description': description,\n",
    "        'duration': duration,\n",
    "        'rating': rating,\n",
    "        'reviews': reviews,\n",
    "        'price': price,\n",
    "        'link': link,\n",
    "    }\n",
    "    print(attraction)\n",
    "    return attraction"
   ]
  },
  {
   "cell_type": "code",
   "execution_count": 36,
   "metadata": {},
   "outputs": [],
   "source": [
    "def scrape_attractions_city(url):\n",
    "    driver.get(url)\n",
    "    \n",
    "    time.sleep(5)\n",
    "    \n",
    "    wait = WebDriverWait(driver, 20)\n",
    "\n",
    "    # while True:\n",
    "    #     try:\n",
    "    #         see_more = wait.until(EC.element_to_be_clickable((By.CSS_SELECTOR, 'button[class=\"a83ed08757 c21c56c305 bf0537ecb5 f671049264 deab83296e af7297d90d\"]')))\n",
    "    #         driver.execute_script(\"arguments[0].scrollIntoView();\", see_more)\n",
    "    #         time.sleep(2)  \n",
    "    #         driver.execute_script(\"arguments[0].click();\", see_more)\n",
    "    #         time.sleep(10) \n",
    "    #         continue\n",
    "    #     except TimeoutException:\n",
    "    #         print('No more button to show')\n",
    "    #         break\n",
    "    #     except Exception as e:\n",
    "    #         print(e)\n",
    "    #         break\n",
    "        \n",
    "    \n",
    "    soup = BeautifulSoup(driver.page_source, 'html.parser')\n",
    "    \n",
    "    cards = soup.find_all('div', class_='b817090550 b736e9e3f4')\n",
    "    city_attractions = []\n",
    "    for card in cards:\n",
    "        attraction = scrape_single_attraction(card)\n",
    "        city_attractions.append(attraction)\n",
    "    \n",
    "    return city_attractions\n"
   ]
  },
  {
   "cell_type": "code",
   "execution_count": 37,
   "metadata": {},
   "outputs": [
    {
     "ename": "NoSuchWindowException",
     "evalue": "Message: no such window: target window already closed\nfrom unknown error: web view not found\n  (Session info: chrome=123.0.6312.87)\nStacktrace:\n0   chromedriver                        0x00000001012e441c chromedriver + 4326428\n1   chromedriver                        0x00000001012dc8e4 chromedriver + 4294884\n2   chromedriver                        0x0000000100f08088 chromedriver + 278664\n3   chromedriver                        0x0000000100ee3270 chromedriver + 127600\n4   chromedriver                        0x0000000100f6f9ac chromedriver + 702892\n5   chromedriver                        0x0000000100f82c0c chromedriver + 781324\n6   chromedriver                        0x0000000100f3f4e4 chromedriver + 505060\n7   chromedriver                        0x0000000100f3ff5c chromedriver + 507740\n8   chromedriver                        0x00000001012a79b8 chromedriver + 4078008\n9   chromedriver                        0x00000001012ac770 chromedriver + 4097904\n10  chromedriver                        0x000000010128e55c chromedriver + 3974492\n11  chromedriver                        0x00000001012ad088 chromedriver + 4100232\n12  chromedriver                        0x000000010127fb4c chromedriver + 3914572\n13  chromedriver                        0x00000001012cd690 chromedriver + 4232848\n14  chromedriver                        0x00000001012cd80c chromedriver + 4233228\n15  chromedriver                        0x00000001012dc558 chromedriver + 4293976\n16  libsystem_pthread.dylib             0x000000019dfeaf94 _pthread_start + 136\n17  libsystem_pthread.dylib             0x000000019dfe5d34 thread_start + 8\n",
     "output_type": "error",
     "traceback": [
      "\u001b[0;31m---------------------------------------------------------------------------\u001b[0m",
      "\u001b[0;31mNoSuchWindowException\u001b[0m                     Traceback (most recent call last)",
      "Cell \u001b[0;32mIn[37], line 4\u001b[0m\n\u001b[1;32m      2\u001b[0m \u001b[38;5;28;01mfor\u001b[39;00m destination_url \u001b[38;5;129;01min\u001b[39;00m df[\u001b[38;5;124m'\u001b[39m\u001b[38;5;124mlink\u001b[39m\u001b[38;5;124m'\u001b[39m][\u001b[38;5;241m1\u001b[39m]:\n\u001b[1;32m      3\u001b[0m     city_url \u001b[38;5;241m=\u001b[39m base_url \u001b[38;5;241m+\u001b[39m destination_url\n\u001b[0;32m----> 4\u001b[0m     attraction \u001b[38;5;241m=\u001b[39m scrape_attractions_city(city_url)\n\u001b[1;32m      5\u001b[0m     attractions\u001b[38;5;241m.\u001b[39mappend(attraction)\n",
      "Cell \u001b[0;32mIn[36], line 2\u001b[0m, in \u001b[0;36mscrape_attractions_city\u001b[0;34m(url)\u001b[0m\n\u001b[1;32m      1\u001b[0m \u001b[38;5;28;01mdef\u001b[39;00m \u001b[38;5;21mscrape_attractions_city\u001b[39m(url):\n\u001b[0;32m----> 2\u001b[0m     driver\u001b[38;5;241m.\u001b[39mget(url)\n\u001b[1;32m      4\u001b[0m     time\u001b[38;5;241m.\u001b[39msleep(\u001b[38;5;241m5\u001b[39m)\n\u001b[1;32m      6\u001b[0m     wait \u001b[38;5;241m=\u001b[39m WebDriverWait(driver, \u001b[38;5;241m20\u001b[39m)\n",
      "File \u001b[0;32m~/anaconda3/lib/python3.11/site-packages/selenium/webdriver/remote/webdriver.py:356\u001b[0m, in \u001b[0;36mWebDriver.get\u001b[0;34m(self, url)\u001b[0m\n\u001b[1;32m    354\u001b[0m \u001b[38;5;28;01mdef\u001b[39;00m \u001b[38;5;21mget\u001b[39m(\u001b[38;5;28mself\u001b[39m, url: \u001b[38;5;28mstr\u001b[39m) \u001b[38;5;241m-\u001b[39m\u001b[38;5;241m>\u001b[39m \u001b[38;5;28;01mNone\u001b[39;00m:\n\u001b[1;32m    355\u001b[0m \u001b[38;5;250m    \u001b[39m\u001b[38;5;124;03m\"\"\"Loads a web page in the current browser session.\"\"\"\u001b[39;00m\n\u001b[0;32m--> 356\u001b[0m     \u001b[38;5;28mself\u001b[39m\u001b[38;5;241m.\u001b[39mexecute(Command\u001b[38;5;241m.\u001b[39mGET, {\u001b[38;5;124m\"\u001b[39m\u001b[38;5;124murl\u001b[39m\u001b[38;5;124m\"\u001b[39m: url})\n",
      "File \u001b[0;32m~/anaconda3/lib/python3.11/site-packages/selenium/webdriver/remote/webdriver.py:347\u001b[0m, in \u001b[0;36mWebDriver.execute\u001b[0;34m(self, driver_command, params)\u001b[0m\n\u001b[1;32m    345\u001b[0m response \u001b[38;5;241m=\u001b[39m \u001b[38;5;28mself\u001b[39m\u001b[38;5;241m.\u001b[39mcommand_executor\u001b[38;5;241m.\u001b[39mexecute(driver_command, params)\n\u001b[1;32m    346\u001b[0m \u001b[38;5;28;01mif\u001b[39;00m response:\n\u001b[0;32m--> 347\u001b[0m     \u001b[38;5;28mself\u001b[39m\u001b[38;5;241m.\u001b[39merror_handler\u001b[38;5;241m.\u001b[39mcheck_response(response)\n\u001b[1;32m    348\u001b[0m     response[\u001b[38;5;124m\"\u001b[39m\u001b[38;5;124mvalue\u001b[39m\u001b[38;5;124m\"\u001b[39m] \u001b[38;5;241m=\u001b[39m \u001b[38;5;28mself\u001b[39m\u001b[38;5;241m.\u001b[39m_unwrap_value(response\u001b[38;5;241m.\u001b[39mget(\u001b[38;5;124m\"\u001b[39m\u001b[38;5;124mvalue\u001b[39m\u001b[38;5;124m\"\u001b[39m, \u001b[38;5;28;01mNone\u001b[39;00m))\n\u001b[1;32m    349\u001b[0m     \u001b[38;5;28;01mreturn\u001b[39;00m response\n",
      "File \u001b[0;32m~/anaconda3/lib/python3.11/site-packages/selenium/webdriver/remote/errorhandler.py:229\u001b[0m, in \u001b[0;36mErrorHandler.check_response\u001b[0;34m(self, response)\u001b[0m\n\u001b[1;32m    227\u001b[0m         alert_text \u001b[38;5;241m=\u001b[39m value[\u001b[38;5;124m\"\u001b[39m\u001b[38;5;124malert\u001b[39m\u001b[38;5;124m\"\u001b[39m]\u001b[38;5;241m.\u001b[39mget(\u001b[38;5;124m\"\u001b[39m\u001b[38;5;124mtext\u001b[39m\u001b[38;5;124m\"\u001b[39m)\n\u001b[1;32m    228\u001b[0m     \u001b[38;5;28;01mraise\u001b[39;00m exception_class(message, screen, stacktrace, alert_text)  \u001b[38;5;66;03m# type: ignore[call-arg]  # mypy is not smart enough here\u001b[39;00m\n\u001b[0;32m--> 229\u001b[0m \u001b[38;5;28;01mraise\u001b[39;00m exception_class(message, screen, stacktrace)\n",
      "\u001b[0;31mNoSuchWindowException\u001b[0m: Message: no such window: target window already closed\nfrom unknown error: web view not found\n  (Session info: chrome=123.0.6312.87)\nStacktrace:\n0   chromedriver                        0x00000001012e441c chromedriver + 4326428\n1   chromedriver                        0x00000001012dc8e4 chromedriver + 4294884\n2   chromedriver                        0x0000000100f08088 chromedriver + 278664\n3   chromedriver                        0x0000000100ee3270 chromedriver + 127600\n4   chromedriver                        0x0000000100f6f9ac chromedriver + 702892\n5   chromedriver                        0x0000000100f82c0c chromedriver + 781324\n6   chromedriver                        0x0000000100f3f4e4 chromedriver + 505060\n7   chromedriver                        0x0000000100f3ff5c chromedriver + 507740\n8   chromedriver                        0x00000001012a79b8 chromedriver + 4078008\n9   chromedriver                        0x00000001012ac770 chromedriver + 4097904\n10  chromedriver                        0x000000010128e55c chromedriver + 3974492\n11  chromedriver                        0x00000001012ad088 chromedriver + 4100232\n12  chromedriver                        0x000000010127fb4c chromedriver + 3914572\n13  chromedriver                        0x00000001012cd690 chromedriver + 4232848\n14  chromedriver                        0x00000001012cd80c chromedriver + 4233228\n15  chromedriver                        0x00000001012dc558 chromedriver + 4293976\n16  libsystem_pthread.dylib             0x000000019dfeaf94 _pthread_start + 136\n17  libsystem_pthread.dylib             0x000000019dfe5d34 thread_start + 8\n"
     ]
    }
   ],
   "source": [
    "attractions = []\n",
    "for destination_url in df['link'][1]:\n",
    "    city_url = base_url + destination_url\n",
    "    attraction = scrape_attractions_city(city_url)\n",
    "    attractions.append(attraction)"
   ]
  },
  {
   "cell_type": "code",
   "execution_count": null,
   "metadata": {},
   "outputs": [
    {
     "data": {
      "text/plain": [
       "'Historical Walking Tour, Discover and Explore San Miguel'"
      ]
     },
     "execution_count": 17,
     "metadata": {},
     "output_type": "execute_result"
    }
   ],
   "source": [
    "soup = BeautifulSoup(driver.page_source, 'html.parser')\n",
    "cards = soup.find_all('div', class_='b817090550 b736e9e3f4')\n",
    "cards[0].find('h3', class_='css-33m8bc').text"
   ]
  },
  {
   "cell_type": "code",
   "execution_count": null,
   "metadata": {},
   "outputs": [
    {
     "data": {
      "text/plain": [
       "77"
      ]
     },
     "execution_count": 21,
     "metadata": {},
     "output_type": "execute_result"
    }
   ],
   "source": [
    "len(attractions)"
   ]
  },
  {
   "cell_type": "code",
   "execution_count": null,
   "metadata": {},
   "outputs": [],
   "source": [
    "df_list = pd.DataFrame(attractions)"
   ]
  },
  {
   "cell_type": "code",
   "execution_count": null,
   "metadata": {},
   "outputs": [
    {
     "data": {
      "text/html": [
       "<div>\n",
       "<style scoped>\n",
       "    .dataframe tbody tr th:only-of-type {\n",
       "        vertical-align: middle;\n",
       "    }\n",
       "\n",
       "    .dataframe tbody tr th {\n",
       "        vertical-align: top;\n",
       "    }\n",
       "\n",
       "    .dataframe thead th {\n",
       "        text-align: right;\n",
       "    }\n",
       "</style>\n",
       "<table border=\"1\" class=\"dataframe\">\n",
       "  <thead>\n",
       "    <tr style=\"text-align: right;\">\n",
       "      <th></th>\n",
       "      <th>0</th>\n",
       "      <th>1</th>\n",
       "      <th>2</th>\n",
       "      <th>3</th>\n",
       "      <th>4</th>\n",
       "      <th>5</th>\n",
       "      <th>6</th>\n",
       "      <th>7</th>\n",
       "      <th>8</th>\n",
       "      <th>9</th>\n",
       "      <th>...</th>\n",
       "      <th>30</th>\n",
       "      <th>31</th>\n",
       "      <th>32</th>\n",
       "      <th>33</th>\n",
       "      <th>34</th>\n",
       "      <th>35</th>\n",
       "      <th>36</th>\n",
       "      <th>37</th>\n",
       "      <th>38</th>\n",
       "      <th>39</th>\n",
       "    </tr>\n",
       "  </thead>\n",
       "  <tbody>\n",
       "    <tr>\n",
       "      <th>0</th>\n",
       "      <td>{'name': 'SUMMIT One Vanderbilt Tickets', 'des...</td>\n",
       "      <td>{'name': '9/11 Memorial &amp; Museum Admission', '...</td>\n",
       "      <td>{'name': 'New York CityPASS', 'description': '...</td>\n",
       "      <td>{'name': 'SUMMIT One Vanderbilt Ticket', 'desc...</td>\n",
       "      <td>{'name': 'One-hour Sightseeing Yacht Cruise', ...</td>\n",
       "      <td>{'name': 'New York City Statue of Liberty Supe...</td>\n",
       "      <td>{'name': 'Empire State Building Observatory', ...</td>\n",
       "      <td>{'name': 'Admission to The Museum of Modern Ar...</td>\n",
       "      <td>{'name': 'New York Explorer Pass', 'descriptio...</td>\n",
       "      <td>{'name': 'Broadway Tickets to The Lion King', ...</td>\n",
       "      <td>...</td>\n",
       "      <td>{'name': 'Museum of Modern Art Ticket', 'descr...</td>\n",
       "      <td>{'name': 'Walking tour in Manhattan Brooklyn B...</td>\n",
       "      <td>{'name': 'Aladdin Musical Admission', 'descrip...</td>\n",
       "      <td>{'name': 'Brooklyn Nets Basketball Game Ticket...</td>\n",
       "      <td>{'name': 'Circle Line Statue of Liberty Cruise...</td>\n",
       "      <td>{'name': 'Statue of Liberty and Ellis Island T...</td>\n",
       "      <td>{'name': 'NY 60 min Statue of Liberty Sightsee...</td>\n",
       "      <td>{'name': '9/11 Tribute Museum and Memorial', '...</td>\n",
       "      <td>{'name': 'Bus Tour of Brooklyn, the Bronx and ...</td>\n",
       "      <td>{'name': 'Guided City Helicopter Tour', 'descr...</td>\n",
       "    </tr>\n",
       "    <tr>\n",
       "      <th>1</th>\n",
       "      <td>{'name': 'Las Vegas Strip Helicopter Ride at N...</td>\n",
       "      <td>{'name': 'High Roller Observation Wheel Admiss...</td>\n",
       "      <td>{'name': 'Tickets to Mystère™ by Cirque du Sol...</td>\n",
       "      <td>{'name': 'Grand Canyon West Rim Tour &amp; Hoover ...</td>\n",
       "      <td>{'name': 'Grand Canyon West Rim Bus Tour from ...</td>\n",
       "      <td>{'name': 'The STRAT Tower Observation Decks Ad...</td>\n",
       "      <td>{'name': '‘Rogue: The Sexiest Show in Vegas’ T...</td>\n",
       "      <td>{'name': 'Grand Canyon West Rim Tour with Brea...</td>\n",
       "      <td>{'name': 'Three-hour Hoover Dam Guided Tour', ...</td>\n",
       "      <td>{'name': 'Paris Las Vegas Eiffel Tower Observa...</td>\n",
       "      <td>...</td>\n",
       "      <td>{'name': 'iLuminate Show Ticket', 'description...</td>\n",
       "      <td>{'name': 'Madame Tussauds Las Vegas Ticket', '...</td>\n",
       "      <td>{'name': 'Morning Maverick Horseback Ride with...</td>\n",
       "      <td>{'name': 'America’s Got Talent presents Super ...</td>\n",
       "      <td>{'name': 'The STRAT: SkyPod, SkyJump and Thril...</td>\n",
       "      <td>{'name': 'Attractions of the Red Rock Canyon T...</td>\n",
       "      <td>{'name': 'Death Valley Tour from Las Vegas', '...</td>\n",
       "      <td>{'name': 'FlyOver Las Vegas Simulated Flight R...</td>\n",
       "      <td>{'name': 'Mad Apple by Cirque du Soleil Admiss...</td>\n",
       "      <td>{'name': 'Las Vegas Hip Hop Club Tour w/ Party...</td>\n",
       "    </tr>\n",
       "    <tr>\n",
       "      <th>2</th>\n",
       "      <td>{'name': 'Snorkelling Tour with Breakfast and ...</td>\n",
       "      <td>{'name': 'Key West Sunset Cruise', 'descriptio...</td>\n",
       "      <td>{'name': 'Haunted Bar Crawl &amp; Ghost Tour', 'de...</td>\n",
       "      <td>{'name': 'Key West Shark and Wildlife Viewing ...</td>\n",
       "      <td>{'name': 'Dolphin-watching Cruise with Snorkel...</td>\n",
       "      <td>{'name': 'Key West Dolphin Watching &amp; Snorkell...</td>\n",
       "      <td>{'name': 'Mangrove Kayak Eco Tour in Key West'...</td>\n",
       "      <td>{'name': 'Key West Sunset Sailing Tour with Ba...</td>\n",
       "      <td>{'name': 'Glass-bottom Boat Tour of the Florid...</td>\n",
       "      <td>{'name': 'Sunset Sailing Tour with Drinks and ...</td>\n",
       "      <td>...</td>\n",
       "      <td>{'name': 'Parasailing Adventure in Key West', ...</td>\n",
       "      <td>{'name': 'Key West Eco Tour with Snorkelling',...</td>\n",
       "      <td>{'name': 'Key West Food Tour', 'description': ...</td>\n",
       "      <td>{'name': 'The Original Key West Island Jet Ski...</td>\n",
       "      <td>{'name': 'Dolphin Watching and Snorkeling Adve...</td>\n",
       "      <td>{'name': 'Key West Half-day Kayak Rental', 'de...</td>\n",
       "      <td>{'name': 'Self-guided Tour of Key West’s Old T...</td>\n",
       "      <td>{'name': 'Private Sunset Cruise around Key Wes...</td>\n",
       "      <td>{'name': 'Two-stop Coral Reef Snorkel Trip', '...</td>\n",
       "      <td>{'name': 'Drop Off Sportfishing - Key West', '...</td>\n",
       "    </tr>\n",
       "    <tr>\n",
       "      <th>3</th>\n",
       "      <td>{'name': 'San Diego Zoo Day Pass', 'descriptio...</td>\n",
       "      <td>{'name': 'USS Midway Museum Admission with Aud...</td>\n",
       "      <td>{'name': 'San Diego Harbour Cruise', 'descript...</td>\n",
       "      <td>{'name': 'San Diego Harbour Cruise', 'descript...</td>\n",
       "      <td>{'name': 'San Diego Zoo', 'description': '', '...</td>\n",
       "      <td>{'name': 'Whale-watching Cruise', 'description...</td>\n",
       "      <td>{'name': 'USS Midway Museum Ticket', 'descript...</td>\n",
       "      <td>{'name': 'San Diego Whale Watching Cruise', 'd...</td>\n",
       "      <td>{'name': 'One-day Pass to San Diego Zoo Safari...</td>\n",
       "      <td>{'name': 'Dolphin and Whale Sunset Cruise', 'd...</td>\n",
       "      <td>...</td>\n",
       "      <td>{'name': 'San Diego Father's Day Buffet Brunch...</td>\n",
       "      <td>{'name': 'Gondola Cruise through the Coronado ...</td>\n",
       "      <td>{'name': 'Admission to San Diego Zoo Safari Pa...</td>\n",
       "      <td>{'name': 'Small-group Sunset Cruise', 'descrip...</td>\n",
       "      <td>{'name': 'Private Sunset Sail for 3-6 People',...</td>\n",
       "      <td>{'name': '4 Hour Private Sail for up to 6 peop...</td>\n",
       "      <td>{'name': 'Walking Ghost Tour in San Diego', 'd...</td>\n",
       "      <td>{'name': 'San Diego Balboa Park Scavenger Hunt...</td>\n",
       "      <td>{'name': 'Chauffeured Adventure to Local San D...</td>\n",
       "      <td>{'name': 'Private Transfer from San Diego City...</td>\n",
       "    </tr>\n",
       "    <tr>\n",
       "      <th>4</th>\n",
       "      <td>{'name': 'Bus and Boat Sightseeing Tour', 'des...</td>\n",
       "      <td>{'name': '90 Minute Evening Sightseeing Cruise...</td>\n",
       "      <td>{'name': 'Miami and Bayside 90 min Cruise of C...</td>\n",
       "      <td>{'name': 'Millionaire's Row Boat Cruise', 'des...</td>\n",
       "      <td>{'name': 'Private Jet ski Excursion in Miami',...</td>\n",
       "      <td>{'name': 'Everglades National Park Guided Airb...</td>\n",
       "      <td>{'name': 'Speedboat Sightseeing Tour', 'descri...</td>\n",
       "      <td>{'name': 'Wynwood Walls Admission Ticket', 'de...</td>\n",
       "      <td>{'name': 'Sunset Cruise', 'description': '', '...</td>\n",
       "      <td>{'name': 'Miami Sunset and City Lights Cocktai...</td>\n",
       "      <td>...</td>\n",
       "      <td>{'name': 'City Luggage Storage', 'description'...</td>\n",
       "      <td>{'name': 'City Tour Miami PLUS (City Tour + Bo...</td>\n",
       "      <td>{'name': 'Miami Boat Tour of Celebrity Homes &amp;...</td>\n",
       "      <td>{'name': 'Key West Tour from Miami', 'descript...</td>\n",
       "      <td>{'name': '60 min Small Group Everglades Airboa...</td>\n",
       "      <td>{'name': 'Everglades Tour with professional To...</td>\n",
       "      <td>{'name': 'Miami Biscayne Bay Private Boat Expe...</td>\n",
       "      <td>{'name': 'Hurricane Jet Boat Ride', 'descripti...</td>\n",
       "      <td>{'name': 'Evening Fiesta Party Cruise in Miami...</td>\n",
       "      <td>{'name': 'Sightseeing Boat Ride in Biscayne Ba...</td>\n",
       "    </tr>\n",
       "  </tbody>\n",
       "</table>\n",
       "<p>5 rows × 40 columns</p>\n",
       "</div>"
      ],
      "text/plain": [
       "                                                  0   \\\n",
       "0  {'name': 'SUMMIT One Vanderbilt Tickets', 'des...   \n",
       "1  {'name': 'Las Vegas Strip Helicopter Ride at N...   \n",
       "2  {'name': 'Snorkelling Tour with Breakfast and ...   \n",
       "3  {'name': 'San Diego Zoo Day Pass', 'descriptio...   \n",
       "4  {'name': 'Bus and Boat Sightseeing Tour', 'des...   \n",
       "\n",
       "                                                  1   \\\n",
       "0  {'name': '9/11 Memorial & Museum Admission', '...   \n",
       "1  {'name': 'High Roller Observation Wheel Admiss...   \n",
       "2  {'name': 'Key West Sunset Cruise', 'descriptio...   \n",
       "3  {'name': 'USS Midway Museum Admission with Aud...   \n",
       "4  {'name': '90 Minute Evening Sightseeing Cruise...   \n",
       "\n",
       "                                                  2   \\\n",
       "0  {'name': 'New York CityPASS', 'description': '...   \n",
       "1  {'name': 'Tickets to Mystère™ by Cirque du Sol...   \n",
       "2  {'name': 'Haunted Bar Crawl & Ghost Tour', 'de...   \n",
       "3  {'name': 'San Diego Harbour Cruise', 'descript...   \n",
       "4  {'name': 'Miami and Bayside 90 min Cruise of C...   \n",
       "\n",
       "                                                  3   \\\n",
       "0  {'name': 'SUMMIT One Vanderbilt Ticket', 'desc...   \n",
       "1  {'name': 'Grand Canyon West Rim Tour & Hoover ...   \n",
       "2  {'name': 'Key West Shark and Wildlife Viewing ...   \n",
       "3  {'name': 'San Diego Harbour Cruise', 'descript...   \n",
       "4  {'name': 'Millionaire's Row Boat Cruise', 'des...   \n",
       "\n",
       "                                                  4   \\\n",
       "0  {'name': 'One-hour Sightseeing Yacht Cruise', ...   \n",
       "1  {'name': 'Grand Canyon West Rim Bus Tour from ...   \n",
       "2  {'name': 'Dolphin-watching Cruise with Snorkel...   \n",
       "3  {'name': 'San Diego Zoo', 'description': '', '...   \n",
       "4  {'name': 'Private Jet ski Excursion in Miami',...   \n",
       "\n",
       "                                                  5   \\\n",
       "0  {'name': 'New York City Statue of Liberty Supe...   \n",
       "1  {'name': 'The STRAT Tower Observation Decks Ad...   \n",
       "2  {'name': 'Key West Dolphin Watching & Snorkell...   \n",
       "3  {'name': 'Whale-watching Cruise', 'description...   \n",
       "4  {'name': 'Everglades National Park Guided Airb...   \n",
       "\n",
       "                                                  6   \\\n",
       "0  {'name': 'Empire State Building Observatory', ...   \n",
       "1  {'name': '‘Rogue: The Sexiest Show in Vegas’ T...   \n",
       "2  {'name': 'Mangrove Kayak Eco Tour in Key West'...   \n",
       "3  {'name': 'USS Midway Museum Ticket', 'descript...   \n",
       "4  {'name': 'Speedboat Sightseeing Tour', 'descri...   \n",
       "\n",
       "                                                  7   \\\n",
       "0  {'name': 'Admission to The Museum of Modern Ar...   \n",
       "1  {'name': 'Grand Canyon West Rim Tour with Brea...   \n",
       "2  {'name': 'Key West Sunset Sailing Tour with Ba...   \n",
       "3  {'name': 'San Diego Whale Watching Cruise', 'd...   \n",
       "4  {'name': 'Wynwood Walls Admission Ticket', 'de...   \n",
       "\n",
       "                                                  8   \\\n",
       "0  {'name': 'New York Explorer Pass', 'descriptio...   \n",
       "1  {'name': 'Three-hour Hoover Dam Guided Tour', ...   \n",
       "2  {'name': 'Glass-bottom Boat Tour of the Florid...   \n",
       "3  {'name': 'One-day Pass to San Diego Zoo Safari...   \n",
       "4  {'name': 'Sunset Cruise', 'description': '', '...   \n",
       "\n",
       "                                                  9   ...  \\\n",
       "0  {'name': 'Broadway Tickets to The Lion King', ...  ...   \n",
       "1  {'name': 'Paris Las Vegas Eiffel Tower Observa...  ...   \n",
       "2  {'name': 'Sunset Sailing Tour with Drinks and ...  ...   \n",
       "3  {'name': 'Dolphin and Whale Sunset Cruise', 'd...  ...   \n",
       "4  {'name': 'Miami Sunset and City Lights Cocktai...  ...   \n",
       "\n",
       "                                                  30  \\\n",
       "0  {'name': 'Museum of Modern Art Ticket', 'descr...   \n",
       "1  {'name': 'iLuminate Show Ticket', 'description...   \n",
       "2  {'name': 'Parasailing Adventure in Key West', ...   \n",
       "3  {'name': 'San Diego Father's Day Buffet Brunch...   \n",
       "4  {'name': 'City Luggage Storage', 'description'...   \n",
       "\n",
       "                                                  31  \\\n",
       "0  {'name': 'Walking tour in Manhattan Brooklyn B...   \n",
       "1  {'name': 'Madame Tussauds Las Vegas Ticket', '...   \n",
       "2  {'name': 'Key West Eco Tour with Snorkelling',...   \n",
       "3  {'name': 'Gondola Cruise through the Coronado ...   \n",
       "4  {'name': 'City Tour Miami PLUS (City Tour + Bo...   \n",
       "\n",
       "                                                  32  \\\n",
       "0  {'name': 'Aladdin Musical Admission', 'descrip...   \n",
       "1  {'name': 'Morning Maverick Horseback Ride with...   \n",
       "2  {'name': 'Key West Food Tour', 'description': ...   \n",
       "3  {'name': 'Admission to San Diego Zoo Safari Pa...   \n",
       "4  {'name': 'Miami Boat Tour of Celebrity Homes &...   \n",
       "\n",
       "                                                  33  \\\n",
       "0  {'name': 'Brooklyn Nets Basketball Game Ticket...   \n",
       "1  {'name': 'America’s Got Talent presents Super ...   \n",
       "2  {'name': 'The Original Key West Island Jet Ski...   \n",
       "3  {'name': 'Small-group Sunset Cruise', 'descrip...   \n",
       "4  {'name': 'Key West Tour from Miami', 'descript...   \n",
       "\n",
       "                                                  34  \\\n",
       "0  {'name': 'Circle Line Statue of Liberty Cruise...   \n",
       "1  {'name': 'The STRAT: SkyPod, SkyJump and Thril...   \n",
       "2  {'name': 'Dolphin Watching and Snorkeling Adve...   \n",
       "3  {'name': 'Private Sunset Sail for 3-6 People',...   \n",
       "4  {'name': '60 min Small Group Everglades Airboa...   \n",
       "\n",
       "                                                  35  \\\n",
       "0  {'name': 'Statue of Liberty and Ellis Island T...   \n",
       "1  {'name': 'Attractions of the Red Rock Canyon T...   \n",
       "2  {'name': 'Key West Half-day Kayak Rental', 'de...   \n",
       "3  {'name': '4 Hour Private Sail for up to 6 peop...   \n",
       "4  {'name': 'Everglades Tour with professional To...   \n",
       "\n",
       "                                                  36  \\\n",
       "0  {'name': 'NY 60 min Statue of Liberty Sightsee...   \n",
       "1  {'name': 'Death Valley Tour from Las Vegas', '...   \n",
       "2  {'name': 'Self-guided Tour of Key West’s Old T...   \n",
       "3  {'name': 'Walking Ghost Tour in San Diego', 'd...   \n",
       "4  {'name': 'Miami Biscayne Bay Private Boat Expe...   \n",
       "\n",
       "                                                  37  \\\n",
       "0  {'name': '9/11 Tribute Museum and Memorial', '...   \n",
       "1  {'name': 'FlyOver Las Vegas Simulated Flight R...   \n",
       "2  {'name': 'Private Sunset Cruise around Key Wes...   \n",
       "3  {'name': 'San Diego Balboa Park Scavenger Hunt...   \n",
       "4  {'name': 'Hurricane Jet Boat Ride', 'descripti...   \n",
       "\n",
       "                                                  38  \\\n",
       "0  {'name': 'Bus Tour of Brooklyn, the Bronx and ...   \n",
       "1  {'name': 'Mad Apple by Cirque du Soleil Admiss...   \n",
       "2  {'name': 'Two-stop Coral Reef Snorkel Trip', '...   \n",
       "3  {'name': 'Chauffeured Adventure to Local San D...   \n",
       "4  {'name': 'Evening Fiesta Party Cruise in Miami...   \n",
       "\n",
       "                                                  39  \n",
       "0  {'name': 'Guided City Helicopter Tour', 'descr...  \n",
       "1  {'name': 'Las Vegas Hip Hop Club Tour w/ Party...  \n",
       "2  {'name': 'Drop Off Sportfishing - Key West', '...  \n",
       "3  {'name': 'Private Transfer from San Diego City...  \n",
       "4  {'name': 'Sightseeing Boat Ride in Biscayne Ba...  \n",
       "\n",
       "[5 rows x 40 columns]"
      ]
     },
     "execution_count": 19,
     "metadata": {},
     "output_type": "execute_result"
    }
   ],
   "source": [
    "df_list.head()"
   ]
  },
  {
   "cell_type": "code",
   "execution_count": null,
   "metadata": {},
   "outputs": [],
   "source": []
  }
 ],
 "metadata": {
  "kernelspec": {
   "display_name": "Python 3 (ipykernel)",
   "language": "python",
   "name": "python3"
  },
  "language_info": {
   "codemirror_mode": {
    "name": "ipython",
    "version": 3
   },
   "file_extension": ".py",
   "mimetype": "text/x-python",
   "name": "python",
   "nbconvert_exporter": "python",
   "pygments_lexer": "ipython3",
   "version": "3.9.6"
  }
 },
 "nbformat": 4,
 "nbformat_minor": 2
}
