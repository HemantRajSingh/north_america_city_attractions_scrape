{
 "cells": [
  {
   "cell_type": "code",
   "execution_count": 14,
   "metadata": {},
   "outputs": [],
   "source": [
    "from bs4 import BeautifulSoup\n",
    "import requests\n",
    "import pandas as pd\n",
    "\n",
    "#impoer selenium\n",
    "from selenium import webdriver\n",
    "from selenium.webdriver.common.keys import Keys\n",
    "from selenium.webdriver.common.by import By\n",
    "from selenium.webdriver.support import expected_conditions as EC\n",
    "from selenium.webdriver.support.ui import WebDriverWait\n",
    "from selenium.common.exceptions import TimeoutException\n",
    "import time"
   ]
  },
  {
   "cell_type": "code",
   "execution_count": 15,
   "metadata": {},
   "outputs": [],
   "source": [
    "base_url = 'https://www.booking.com'"
   ]
  },
  {
   "cell_type": "code",
   "execution_count": 16,
   "metadata": {},
   "outputs": [
    {
     "data": {
      "text/html": [
       "<div>\n",
       "<style scoped>\n",
       "    .dataframe tbody tr th:only-of-type {\n",
       "        vertical-align: middle;\n",
       "    }\n",
       "\n",
       "    .dataframe tbody tr th {\n",
       "        vertical-align: top;\n",
       "    }\n",
       "\n",
       "    .dataframe thead th {\n",
       "        text-align: right;\n",
       "    }\n",
       "</style>\n",
       "<table border=\"1\" class=\"dataframe\">\n",
       "  <thead>\n",
       "    <tr style=\"text-align: right;\">\n",
       "      <th></th>\n",
       "      <th>name</th>\n",
       "      <th>link</th>\n",
       "    </tr>\n",
       "  </thead>\n",
       "  <tbody>\n",
       "    <tr>\n",
       "      <th>0</th>\n",
       "      <td>New York</td>\n",
       "      <td>/attractions/searchresults/us/new-york.en-gb.h...</td>\n",
       "    </tr>\n",
       "    <tr>\n",
       "      <th>1</th>\n",
       "      <td>Las Vegas</td>\n",
       "      <td>/attractions/searchresults/us/las-vegas.en-gb....</td>\n",
       "    </tr>\n",
       "    <tr>\n",
       "      <th>2</th>\n",
       "      <td>Key West</td>\n",
       "      <td>/attractions/searchresults/us/key-west.en-gb.h...</td>\n",
       "    </tr>\n",
       "    <tr>\n",
       "      <th>3</th>\n",
       "      <td>San Diego</td>\n",
       "      <td>/attractions/searchresults/us/san-diego.en-gb....</td>\n",
       "    </tr>\n",
       "    <tr>\n",
       "      <th>4</th>\n",
       "      <td>Miami</td>\n",
       "      <td>/attractions/searchresults/us/miami.en-gb.html...</td>\n",
       "    </tr>\n",
       "  </tbody>\n",
       "</table>\n",
       "</div>"
      ],
      "text/plain": [
       "        name                                               link\n",
       "0   New York  /attractions/searchresults/us/new-york.en-gb.h...\n",
       "1  Las Vegas  /attractions/searchresults/us/las-vegas.en-gb....\n",
       "2   Key West  /attractions/searchresults/us/key-west.en-gb.h...\n",
       "3  San Diego  /attractions/searchresults/us/san-diego.en-gb....\n",
       "4      Miami  /attractions/searchresults/us/miami.en-gb.html..."
      ]
     },
     "execution_count": 16,
     "metadata": {},
     "output_type": "execute_result"
    }
   ],
   "source": [
    "df = pd.read_csv('../data/raw/booking_urls.csv')\n",
    "df.head()"
   ]
  },
  {
   "cell_type": "code",
   "execution_count": 17,
   "metadata": {},
   "outputs": [],
   "source": [
    "# load url in selenium\n",
    "driver = webdriver.Chrome()"
   ]
  },
  {
   "cell_type": "code",
   "execution_count": 18,
   "metadata": {},
   "outputs": [],
   "source": [
    "def scrape_single_attraction(city_name, soup):\n",
    "    name = soup.find('h3', class_='css-jv2qn6')\n",
    "    name = name.text if name is not None else \"\"\n",
    "    description = soup.find('div', class_='css-6k49yo')\n",
    "    description = description.text if description is not None else \"\"\n",
    "    duration = soup.find('div', class_='a53cbfa6de css-j786b1')\n",
    "    duration = duration.text if duration is not None else \"\"\n",
    "    rating = soup.find('span', class_='a53cbfa6de css-35ezg3')\n",
    "    rating = rating.text if rating is not None else \"\"\n",
    "    reviews = soup.find('span', class_='a53cbfa6de')\n",
    "    reviews = reviews.text if reviews is not None else \"\"\n",
    "    price = soup.find('div', class_='e1eebb6a1e css-13pzcpe')\n",
    "    price = price.text if price is not None else \"\"\n",
    "    link = soup.find('a', class_='css-i6rjpg')\n",
    "    link = link['href'] if link is not None else \"\"\n",
    "    image_url = soup.find('img', class_='css-17k46x')\n",
    "    image_url = image_url['src'] if image_url is not None else \"\"\n",
    "    \n",
    "    attraction = {\n",
    "        'city': city_name,\n",
    "        'name': name,\n",
    "        'description': description,\n",
    "        'duration': duration,\n",
    "        'rating': rating,\n",
    "        'reviews': reviews,\n",
    "        'price': price,\n",
    "        'link': link,\n",
    "        'image_url': image_url,\n",
    "    }\n",
    "    return attraction"
   ]
  },
  {
   "cell_type": "code",
   "execution_count": 19,
   "metadata": {},
   "outputs": [],
   "source": [
    "# soup = BeautifulSoup(driver.page_source, 'html.parser')"
   ]
  },
  {
   "cell_type": "code",
   "execution_count": 20,
   "metadata": {},
   "outputs": [],
   "source": [
    "# get by css selector from soup\n",
    "# soup.select('button.a83ed08757.c21c56c305.bf0537ecb5.f671049264.d2529514af.af7297d90d')"
   ]
  },
  {
   "cell_type": "code",
   "execution_count": 21,
   "metadata": {},
   "outputs": [],
   "source": [
    "def scrape_attractions_city(city_name, city_url):\n",
    "    driver.get(city_url)\n",
    "    wait = WebDriverWait(driver, 20)\n",
    "\n",
    "    while True:\n",
    "        try:\n",
    "            driver.execute_script(\"window.scrollTo(0, document.body.scrollHeight);\")\n",
    "            time.sleep(10)\n",
    "            see_more = wait.until(EC.element_to_be_clickable((By.CSS_SELECTOR, 'div.css-1f31mt9 button')))\n",
    "            time.sleep(5)\n",
    "            driver.execute_script(\"arguments[0].scrollIntoView();\", see_more)\n",
    "            driver.execute_script(\"arguments[0].click();\", see_more)\n",
    "            time.sleep(10) \n",
    "            continue\n",
    "        except TimeoutException:\n",
    "            print('No more button to show')\n",
    "            break\n",
    "        except Exception as e:\n",
    "            print(e)\n",
    "            break\n",
    "        \n",
    "    \n",
    "    soup = BeautifulSoup(driver.page_source, 'html.parser')\n",
    "    \n",
    "    cards = soup.find_all('div', class_='b817090550 b736e9e3f4')\n",
    "    city_attractions = []\n",
    "    for card in cards:\n",
    "        attraction = scrape_single_attraction(city_name, card)\n",
    "        city_attractions.append(attraction)\n",
    "    \n",
    "    return city_attractions\n"
   ]
  },
  {
   "cell_type": "code",
   "execution_count": 27,
   "metadata": {},
   "outputs": [],
   "source": [
    "all_attractions = []\n",
    "for i, destination in df[:1].iterrows():\n",
    "    city_name = destination['name']\n",
    "    city_url = base_url + destination['link']\n",
    "    city_attraction = scrape_attractions_city(city_name, city_url)\n",
    "    for attraction in city_attraction:\n",
    "        all_attractions.append(attraction)"
   ]
  },
  {
   "cell_type": "code",
   "execution_count": 23,
   "metadata": {},
   "outputs": [
    {
     "data": {
      "text/html": [
       "<div>\n",
       "<style scoped>\n",
       "    .dataframe tbody tr th:only-of-type {\n",
       "        vertical-align: middle;\n",
       "    }\n",
       "\n",
       "    .dataframe tbody tr th {\n",
       "        vertical-align: top;\n",
       "    }\n",
       "\n",
       "    .dataframe thead th {\n",
       "        text-align: right;\n",
       "    }\n",
       "</style>\n",
       "<table border=\"1\" class=\"dataframe\">\n",
       "  <thead>\n",
       "    <tr style=\"text-align: right;\">\n",
       "      <th></th>\n",
       "    </tr>\n",
       "  </thead>\n",
       "  <tbody>\n",
       "  </tbody>\n",
       "</table>\n",
       "</div>"
      ],
      "text/plain": [
       "Empty DataFrame\n",
       "Columns: []\n",
       "Index: []"
      ]
     },
     "execution_count": 23,
     "metadata": {},
     "output_type": "execute_result"
    }
   ],
   "source": [
    "# convert attractions to a dataframe\n",
    "attractions_df = pd.DataFrame(all_attractions)\n",
    "attractions_df.head()"
   ]
  },
  {
   "cell_type": "code",
   "execution_count": 24,
   "metadata": {},
   "outputs": [
    {
     "data": {
      "text/plain": [
       "0"
      ]
     },
     "execution_count": 24,
     "metadata": {},
     "output_type": "execute_result"
    }
   ],
   "source": [
    "len(attractions_df)"
   ]
  },
  {
   "cell_type": "code",
   "execution_count": 25,
   "metadata": {},
   "outputs": [],
   "source": [
    "attractions_df.to_csv('../data/raw/city_attractions.csv', index=False)"
   ]
  }
 ],
 "metadata": {
  "kernelspec": {
   "display_name": "Python 3",
   "language": "python",
   "name": "python3"
  },
  "language_info": {
   "codemirror_mode": {
    "name": "ipython",
    "version": 3
   },
   "file_extension": ".py",
   "mimetype": "text/x-python",
   "name": "python",
   "nbconvert_exporter": "python",
   "pygments_lexer": "ipython3",
   "version": "3.11.5"
  }
 },
 "nbformat": 4,
 "nbformat_minor": 2
}
