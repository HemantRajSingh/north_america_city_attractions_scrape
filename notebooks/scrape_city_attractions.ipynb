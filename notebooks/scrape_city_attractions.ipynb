{
 "cells": [
  {
   "cell_type": "code",
   "execution_count": 16,
   "metadata": {},
   "outputs": [],
   "source": [
    "from bs4 import BeautifulSoup\n",
    "import requests\n",
    "import pandas as pd\n",
    "\n",
    "#impoer selenium\n",
    "from selenium import webdriver\n",
    "from selenium.webdriver.common.keys import Keys\n",
    "from selenium.webdriver.common.by import By\n",
    "from selenium.webdriver.support import expected_conditions as EC\n",
    "from selenium.webdriver.support.ui import WebDriverWait\n",
    "from selenium.common.exceptions import TimeoutException\n",
    "import time"
   ]
  },
  {
   "cell_type": "code",
   "execution_count": 17,
   "metadata": {},
   "outputs": [],
   "source": [
    "base_url = 'https://www.booking.com'"
   ]
  },
  {
   "cell_type": "code",
   "execution_count": 18,
   "metadata": {},
   "outputs": [
    {
     "data": {
      "text/html": [
       "<div>\n",
       "<style scoped>\n",
       "    .dataframe tbody tr th:only-of-type {\n",
       "        vertical-align: middle;\n",
       "    }\n",
       "\n",
       "    .dataframe tbody tr th {\n",
       "        vertical-align: top;\n",
       "    }\n",
       "\n",
       "    .dataframe thead th {\n",
       "        text-align: right;\n",
       "    }\n",
       "</style>\n",
       "<table border=\"1\" class=\"dataframe\">\n",
       "  <thead>\n",
       "    <tr style=\"text-align: right;\">\n",
       "      <th></th>\n",
       "      <th>name</th>\n",
       "      <th>link</th>\n",
       "    </tr>\n",
       "  </thead>\n",
       "  <tbody>\n",
       "    <tr>\n",
       "      <th>0</th>\n",
       "      <td>New York</td>\n",
       "      <td>/attractions/searchresults/us/new-york.en-gb.h...</td>\n",
       "    </tr>\n",
       "    <tr>\n",
       "      <th>1</th>\n",
       "      <td>Las Vegas</td>\n",
       "      <td>/attractions/searchresults/us/las-vegas.en-gb....</td>\n",
       "    </tr>\n",
       "    <tr>\n",
       "      <th>2</th>\n",
       "      <td>Key West</td>\n",
       "      <td>/attractions/searchresults/us/key-west.en-gb.h...</td>\n",
       "    </tr>\n",
       "    <tr>\n",
       "      <th>3</th>\n",
       "      <td>San Diego</td>\n",
       "      <td>/attractions/searchresults/us/san-diego.en-gb....</td>\n",
       "    </tr>\n",
       "    <tr>\n",
       "      <th>4</th>\n",
       "      <td>Miami</td>\n",
       "      <td>/attractions/searchresults/us/miami.en-gb.html...</td>\n",
       "    </tr>\n",
       "  </tbody>\n",
       "</table>\n",
       "</div>"
      ],
      "text/plain": [
       "        name                                               link\n",
       "0   New York  /attractions/searchresults/us/new-york.en-gb.h...\n",
       "1  Las Vegas  /attractions/searchresults/us/las-vegas.en-gb....\n",
       "2   Key West  /attractions/searchresults/us/key-west.en-gb.h...\n",
       "3  San Diego  /attractions/searchresults/us/san-diego.en-gb....\n",
       "4      Miami  /attractions/searchresults/us/miami.en-gb.html..."
      ]
     },
     "execution_count": 18,
     "metadata": {},
     "output_type": "execute_result"
    }
   ],
   "source": [
    "df = pd.read_csv('../data/raw/booking_urls.csv')\n",
    "df.head()"
   ]
  },
  {
   "cell_type": "code",
   "execution_count": 19,
   "metadata": {},
   "outputs": [],
   "source": [
    "# load url in selenium\n",
    "driver = webdriver.Chrome()"
   ]
  },
  {
   "cell_type": "code",
   "execution_count": 20,
   "metadata": {},
   "outputs": [],
   "source": [
    "def scrape_single_attraction(city_name, soup):\n",
    "    name = soup.find('h3', class_='css-jv2qn6')\n",
    "    name = name.text if name is not None else \"\"\n",
    "    description = soup.find('div', class_='css-6k49yo')\n",
    "    description = description.text if description is not None else \"\"\n",
    "    duration = soup.find('div', class_='a53cbfa6de css-j786b1')\n",
    "    duration = duration.text if duration is not None else \"\"\n",
    "    rating = soup.find('span', class_='a53cbfa6de css-35ezg3')\n",
    "    rating = rating.text if rating is not None else \"\"\n",
    "    reviews = soup.find('span', class_='a53cbfa6de')\n",
    "    reviews = reviews.text if reviews is not None else \"\"\n",
    "    price = soup.find('div', class_='e1eebb6a1e css-13pzcpe')\n",
    "    price = price.text if price is not None else \"\"\n",
    "    link = soup.find('a', class_='css-i6rjpg')\n",
    "    link = link['href'] if link is not None else \"\"\n",
    "    image_url = soup.find('img', class_='css-17k46x')\n",
    "    image_url = image_url['src'] if image_url is not None else \"\"\n",
    "    \n",
    "    attraction = {\n",
    "        'city': city_name,\n",
    "        'name': name,\n",
    "        'description': description,\n",
    "        'duration': duration,\n",
    "        'rating': rating,\n",
    "        'reviews': reviews,\n",
    "        'price': price,\n",
    "        'link': link,\n",
    "        'image_url': image_url,\n",
    "    }\n",
    "    return attraction"
   ]
  },
  {
   "cell_type": "code",
   "execution_count": 21,
   "metadata": {},
   "outputs": [],
   "source": [
    "# soup = BeautifulSoup(driver.page_source, 'html.parser')"
   ]
  },
  {
   "cell_type": "code",
   "execution_count": 22,
   "metadata": {},
   "outputs": [],
   "source": [
    "# get by css selector from soup\n",
    "# soup.select('button.a83ed08757.c21c56c305.bf0537ecb5.f671049264.d2529514af.af7297d90d')"
   ]
  },
  {
   "cell_type": "code",
   "execution_count": 23,
   "metadata": {},
   "outputs": [],
   "source": [
    "def scrape_attractions_city(city_name, city_url):\n",
    "    driver.get(city_url)\n",
    "    wait = WebDriverWait(driver, 10)\n",
    "\n",
    "    while True:\n",
    "        try:\n",
    "            driver.execute_script(\"window.scrollTo(0, document.body.scrollHeight);\")\n",
    "            time.sleep(10)\n",
    "            see_more = wait.until(EC.element_to_be_clickable((By.CSS_SELECTOR, 'div.css-1f31mt9 button')))\n",
    "            driver.execute_script(\"arguments[0].scrollIntoView();\", see_more)\n",
    "            driver.execute_script(\"arguments[0].click();\", see_more)\n",
    "            time.sleep(2) \n",
    "            continue\n",
    "        except TimeoutException:\n",
    "            print('No more button to show')\n",
    "            break\n",
    "        except Exception as e:\n",
    "            print(e)\n",
    "            break\n",
    "        \n",
    "    \n",
    "    soup = BeautifulSoup(driver.page_source, 'html.parser')\n",
    "    \n",
    "    cards = soup.find_all('div', class_='b817090550 b736e9e3f4')\n",
    "    city_attractions = []\n",
    "    for card in cards:\n",
    "        attraction = scrape_single_attraction(city_name, card)\n",
    "        city_attractions.append(attraction)\n",
    "    \n",
    "    return city_attractions\n"
   ]
  },
  {
   "cell_type": "code",
   "execution_count": 24,
   "metadata": {},
   "outputs": [
    {
     "ename": "KeyboardInterrupt",
     "evalue": "",
     "output_type": "error",
     "traceback": [
      "\u001b[0;31m---------------------------------------------------------------------------\u001b[0m",
      "\u001b[0;31mKeyboardInterrupt\u001b[0m                         Traceback (most recent call last)",
      "Cell \u001b[0;32mIn[24], line 5\u001b[0m\n\u001b[1;32m      3\u001b[0m city_name \u001b[38;5;241m=\u001b[39m destination[\u001b[38;5;124m'\u001b[39m\u001b[38;5;124mname\u001b[39m\u001b[38;5;124m'\u001b[39m]\n\u001b[1;32m      4\u001b[0m city_url \u001b[38;5;241m=\u001b[39m base_url \u001b[38;5;241m+\u001b[39m destination[\u001b[38;5;124m'\u001b[39m\u001b[38;5;124mlink\u001b[39m\u001b[38;5;124m'\u001b[39m]\n\u001b[0;32m----> 5\u001b[0m city_attraction \u001b[38;5;241m=\u001b[39m scrape_attractions_city(city_name, city_url)\n\u001b[1;32m      6\u001b[0m \u001b[38;5;28;01mfor\u001b[39;00m attraction \u001b[38;5;129;01min\u001b[39;00m city_attraction:\n\u001b[1;32m      7\u001b[0m     all_attractions\u001b[38;5;241m.\u001b[39mappend(attraction)\n",
      "Cell \u001b[0;32mIn[23], line 8\u001b[0m, in \u001b[0;36mscrape_attractions_city\u001b[0;34m(city_name, city_url)\u001b[0m\n\u001b[1;32m      6\u001b[0m \u001b[38;5;28;01mtry\u001b[39;00m:\n\u001b[1;32m      7\u001b[0m     driver\u001b[38;5;241m.\u001b[39mexecute_script(\u001b[38;5;124m\"\u001b[39m\u001b[38;5;124mwindow.scrollTo(0, document.body.scrollHeight);\u001b[39m\u001b[38;5;124m\"\u001b[39m)\n\u001b[0;32m----> 8\u001b[0m     time\u001b[38;5;241m.\u001b[39msleep(\u001b[38;5;241m10\u001b[39m)\n\u001b[1;32m      9\u001b[0m     see_more \u001b[38;5;241m=\u001b[39m wait\u001b[38;5;241m.\u001b[39muntil(EC\u001b[38;5;241m.\u001b[39melement_to_be_clickable((By\u001b[38;5;241m.\u001b[39mCSS_SELECTOR, \u001b[38;5;124m'\u001b[39m\u001b[38;5;124mdiv.css-1f31mt9 button\u001b[39m\u001b[38;5;124m'\u001b[39m)))\n\u001b[1;32m     10\u001b[0m     driver\u001b[38;5;241m.\u001b[39mexecute_script(\u001b[38;5;124m\"\u001b[39m\u001b[38;5;124marguments[0].scrollIntoView();\u001b[39m\u001b[38;5;124m\"\u001b[39m, see_more)\n",
      "\u001b[0;31mKeyboardInterrupt\u001b[0m: "
     ]
    }
   ],
   "source": [
    "all_attractions = []\n",
    "for i, destination in df.iterrows():\n",
    "    city_name = destination['name']\n",
    "    city_url = base_url + destination['link']\n",
    "    city_attraction = scrape_attractions_city(city_name, city_url)\n",
    "    for attraction in city_attraction:\n",
    "        all_attractions.append(attraction)"
   ]
  },
  {
   "cell_type": "code",
   "execution_count": null,
   "metadata": {},
   "outputs": [
    {
     "data": {
      "text/html": [
       "<div>\n",
       "<style scoped>\n",
       "    .dataframe tbody tr th:only-of-type {\n",
       "        vertical-align: middle;\n",
       "    }\n",
       "\n",
       "    .dataframe tbody tr th {\n",
       "        vertical-align: top;\n",
       "    }\n",
       "\n",
       "    .dataframe thead th {\n",
       "        text-align: right;\n",
       "    }\n",
       "</style>\n",
       "<table border=\"1\" class=\"dataframe\">\n",
       "  <thead>\n",
       "    <tr style=\"text-align: right;\">\n",
       "      <th></th>\n",
       "      <th>city</th>\n",
       "      <th>name</th>\n",
       "      <th>description</th>\n",
       "      <th>duration</th>\n",
       "      <th>rating</th>\n",
       "      <th>reviews</th>\n",
       "      <th>price</th>\n",
       "      <th>link</th>\n",
       "      <th>image_url</th>\n",
       "    </tr>\n",
       "  </thead>\n",
       "  <tbody>\n",
       "    <tr>\n",
       "      <th>0</th>\n",
       "      <td>New York</td>\n",
       "      <td>SUMMIT One Vanderbilt Tickets</td>\n",
       "      <td>Digital art installations and views of New Yor...</td>\n",
       "      <td>Duration: 2 hours</td>\n",
       "      <td>4.7</td>\n",
       "      <td>4.7</td>\n",
       "      <td>CAD 63.57</td>\n",
       "      <td>/attractions/us/prcmokyuz7um-summit-one-vander...</td>\n",
       "      <td>https://q-xx.bstatic.com/xdata/images/xphoto/3...</td>\n",
       "    </tr>\n",
       "    <tr>\n",
       "      <th>1</th>\n",
       "      <td>New York</td>\n",
       "      <td>9/11 Memorial &amp; Museum Admission</td>\n",
       "      <td>Chance to visit a memorial and museum that's d...</td>\n",
       "      <td></td>\n",
       "      <td>4.8</td>\n",
       "      <td>4.8</td>\n",
       "      <td>CAD 36.66</td>\n",
       "      <td>/attractions/us/prgstbyhf5aj-911-memorial-muse...</td>\n",
       "      <td>https://q-xx.bstatic.com/xdata/images/xphoto/3...</td>\n",
       "    </tr>\n",
       "    <tr>\n",
       "      <th>2</th>\n",
       "      <td>New York</td>\n",
       "      <td>New York CityPASS</td>\n",
       "      <td>A sightseeing pass to explore Big Apple attrac...</td>\n",
       "      <td></td>\n",
       "      <td>4.5</td>\n",
       "      <td>4.5</td>\n",
       "      <td>CAD 198.23</td>\n",
       "      <td>/attractions/us/prj7dhkaezyz-new-york-city-pas...</td>\n",
       "      <td>https://r-xx.bstatic.com/xdata/images/xphoto/3...</td>\n",
       "    </tr>\n",
       "    <tr>\n",
       "      <th>3</th>\n",
       "      <td>New York</td>\n",
       "      <td>One-hour Sightseeing Yacht Cruise</td>\n",
       "      <td>A narrated cruise with views of the Statue of ...</td>\n",
       "      <td></td>\n",
       "      <td>3.8</td>\n",
       "      <td>3.8</td>\n",
       "      <td>CAD 21.72</td>\n",
       "      <td>/attractions/us/prulfebtv6ii-one-hour-sightsee...</td>\n",
       "      <td>https://q-xx.bstatic.com/xdata/images/xphoto/3...</td>\n",
       "    </tr>\n",
       "    <tr>\n",
       "      <th>4</th>\n",
       "      <td>New York</td>\n",
       "      <td>SUMMIT One Vanderbilt Ticket</td>\n",
       "      <td>Opportunity to go on an immersive multisensory...</td>\n",
       "      <td></td>\n",
       "      <td>4.5</td>\n",
       "      <td>4.5</td>\n",
       "      <td>CAD 63.57</td>\n",
       "      <td>/attractions/us/pr3zhwuklbbp-summit-one-vander...</td>\n",
       "      <td>https://q-xx.bstatic.com/xdata/images/xphoto/3...</td>\n",
       "    </tr>\n",
       "  </tbody>\n",
       "</table>\n",
       "</div>"
      ],
      "text/plain": [
       "       city                               name  \\\n",
       "0  New York      SUMMIT One Vanderbilt Tickets   \n",
       "1  New York   9/11 Memorial & Museum Admission   \n",
       "2  New York                  New York CityPASS   \n",
       "3  New York  One-hour Sightseeing Yacht Cruise   \n",
       "4  New York       SUMMIT One Vanderbilt Ticket   \n",
       "\n",
       "                                         description           duration  \\\n",
       "0  Digital art installations and views of New Yor...  Duration: 2 hours   \n",
       "1  Chance to visit a memorial and museum that's d...                      \n",
       "2  A sightseeing pass to explore Big Apple attrac...                      \n",
       "3  A narrated cruise with views of the Statue of ...                      \n",
       "4  Opportunity to go on an immersive multisensory...                      \n",
       "\n",
       "  rating reviews       price  \\\n",
       "0    4.7     4.7   CAD 63.57   \n",
       "1    4.8     4.8   CAD 36.66   \n",
       "2    4.5     4.5  CAD 198.23   \n",
       "3    3.8     3.8   CAD 21.72   \n",
       "4    4.5     4.5   CAD 63.57   \n",
       "\n",
       "                                                link  \\\n",
       "0  /attractions/us/prcmokyuz7um-summit-one-vander...   \n",
       "1  /attractions/us/prgstbyhf5aj-911-memorial-muse...   \n",
       "2  /attractions/us/prj7dhkaezyz-new-york-city-pas...   \n",
       "3  /attractions/us/prulfebtv6ii-one-hour-sightsee...   \n",
       "4  /attractions/us/pr3zhwuklbbp-summit-one-vander...   \n",
       "\n",
       "                                           image_url  \n",
       "0  https://q-xx.bstatic.com/xdata/images/xphoto/3...  \n",
       "1  https://q-xx.bstatic.com/xdata/images/xphoto/3...  \n",
       "2  https://r-xx.bstatic.com/xdata/images/xphoto/3...  \n",
       "3  https://q-xx.bstatic.com/xdata/images/xphoto/3...  \n",
       "4  https://q-xx.bstatic.com/xdata/images/xphoto/3...  "
      ]
     },
     "execution_count": 37,
     "metadata": {},
     "output_type": "execute_result"
    }
   ],
   "source": [
    "# convert attractions to a dataframe\n",
    "attractions_df = pd.DataFrame(all_attractions)\n",
    "attractions_df.head()"
   ]
  },
  {
   "cell_type": "code",
   "execution_count": null,
   "metadata": {},
   "outputs": [
    {
     "data": {
      "text/plain": [
       "1270"
      ]
     },
     "execution_count": 38,
     "metadata": {},
     "output_type": "execute_result"
    }
   ],
   "source": [
    "len(attractions_df)"
   ]
  },
  {
   "cell_type": "code",
   "execution_count": null,
   "metadata": {},
   "outputs": [],
   "source": [
    "attractions_df.to_csv('../data/raw/city_attractions.csv', index=False)"
   ]
  }
 ],
 "metadata": {
  "kernelspec": {
   "display_name": "Python 3",
   "language": "python",
   "name": "python3"
  },
  "language_info": {
   "codemirror_mode": {
    "name": "ipython",
    "version": 3
   },
   "file_extension": ".py",
   "mimetype": "text/x-python",
   "name": "python",
   "nbconvert_exporter": "python",
   "pygments_lexer": "ipython3",
   "version": "3.11.5"
  }
 },
 "nbformat": 4,
 "nbformat_minor": 2
}
