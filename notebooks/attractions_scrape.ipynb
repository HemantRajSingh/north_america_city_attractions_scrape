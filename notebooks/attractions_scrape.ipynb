{
 "cells": [
  {
   "cell_type": "code",
   "execution_count": 7,
   "metadata": {},
   "outputs": [],
   "source": [
    "from bs4 import BeautifulSoup\n",
    "import requests\n",
    "import pandas as pd\n",
    "\n",
    "#impoer selenium\n",
    "from selenium import webdriver\n",
    "from selenium.webdriver.common.keys import Keys\n",
    "from selenium.webdriver.common.by import By\n",
    "from selenium.webdriver.support import expected_conditions as EC\n",
    "from selenium.webdriver.support.ui import WebDriverWait\n",
    "from selenium.common.exceptions import TimeoutException\n",
    "import time"
   ]
  },
  {
   "cell_type": "code",
   "execution_count": 8,
   "metadata": {},
   "outputs": [],
   "source": [
    "base_url = 'https://www.booking.com'"
   ]
  },
  {
   "cell_type": "code",
   "execution_count": 9,
   "metadata": {},
   "outputs": [
    {
     "data": {
      "text/html": [
       "<div>\n",
       "<style scoped>\n",
       "    .dataframe tbody tr th:only-of-type {\n",
       "        vertical-align: middle;\n",
       "    }\n",
       "\n",
       "    .dataframe tbody tr th {\n",
       "        vertical-align: top;\n",
       "    }\n",
       "\n",
       "    .dataframe thead th {\n",
       "        text-align: right;\n",
       "    }\n",
       "</style>\n",
       "<table border=\"1\" class=\"dataframe\">\n",
       "  <thead>\n",
       "    <tr style=\"text-align: right;\">\n",
       "      <th></th>\n",
       "      <th>city</th>\n",
       "      <th>name</th>\n",
       "      <th>description</th>\n",
       "      <th>duration</th>\n",
       "      <th>rating</th>\n",
       "      <th>reviews</th>\n",
       "      <th>price</th>\n",
       "      <th>link</th>\n",
       "      <th>image_url</th>\n",
       "    </tr>\n",
       "  </thead>\n",
       "  <tbody>\n",
       "    <tr>\n",
       "      <th>0</th>\n",
       "      <td>New York</td>\n",
       "      <td>SUMMIT One Vanderbilt Tickets</td>\n",
       "      <td>Digital art installations and views of New Yor...</td>\n",
       "      <td>Duration: 2 hours</td>\n",
       "      <td>4.7</td>\n",
       "      <td>4.7</td>\n",
       "      <td>CAD 63.57</td>\n",
       "      <td>/attractions/us/prcmokyuz7um-summit-one-vander...</td>\n",
       "      <td>https://r-xx.bstatic.com/xdata/images/xphoto/3...</td>\n",
       "    </tr>\n",
       "    <tr>\n",
       "      <th>1</th>\n",
       "      <td>New York</td>\n",
       "      <td>9/11 Memorial &amp; Museum Admission</td>\n",
       "      <td>Chance to visit a memorial and museum that's d...</td>\n",
       "      <td>NaN</td>\n",
       "      <td>4.8</td>\n",
       "      <td>4.8</td>\n",
       "      <td>CAD 36.66</td>\n",
       "      <td>/attractions/us/prgstbyhf5aj-911-memorial-muse...</td>\n",
       "      <td>https://r-xx.bstatic.com/xdata/images/xphoto/3...</td>\n",
       "    </tr>\n",
       "    <tr>\n",
       "      <th>2</th>\n",
       "      <td>New York</td>\n",
       "      <td>New York CityPASS</td>\n",
       "      <td>A sightseeing pass to explore Big Apple attrac...</td>\n",
       "      <td>NaN</td>\n",
       "      <td>4.5</td>\n",
       "      <td>4.5</td>\n",
       "      <td>CAD 198.23</td>\n",
       "      <td>/attractions/us/prj7dhkaezyz-new-york-city-pas...</td>\n",
       "      <td>https://r-xx.bstatic.com/xdata/images/xphoto/3...</td>\n",
       "    </tr>\n",
       "    <tr>\n",
       "      <th>3</th>\n",
       "      <td>New York</td>\n",
       "      <td>One-hour Sightseeing Yacht Cruise</td>\n",
       "      <td>A narrated cruise with views of the Statue of ...</td>\n",
       "      <td>NaN</td>\n",
       "      <td>3.8</td>\n",
       "      <td>3.8</td>\n",
       "      <td>CAD 21.72</td>\n",
       "      <td>/attractions/us/prulfebtv6ii-one-hour-sightsee...</td>\n",
       "      <td>https://q-xx.bstatic.com/xdata/images/xphoto/3...</td>\n",
       "    </tr>\n",
       "    <tr>\n",
       "      <th>4</th>\n",
       "      <td>New York</td>\n",
       "      <td>SUMMIT One Vanderbilt Ticket</td>\n",
       "      <td>Opportunity to go on an immersive multisensory...</td>\n",
       "      <td>NaN</td>\n",
       "      <td>4.5</td>\n",
       "      <td>4.5</td>\n",
       "      <td>CAD 63.57</td>\n",
       "      <td>/attractions/us/pr3zhwuklbbp-summit-one-vander...</td>\n",
       "      <td>https://q-xx.bstatic.com/xdata/images/xphoto/3...</td>\n",
       "    </tr>\n",
       "  </tbody>\n",
       "</table>\n",
       "</div>"
      ],
      "text/plain": [
       "       city                               name  \\\n",
       "0  New York      SUMMIT One Vanderbilt Tickets   \n",
       "1  New York   9/11 Memorial & Museum Admission   \n",
       "2  New York                  New York CityPASS   \n",
       "3  New York  One-hour Sightseeing Yacht Cruise   \n",
       "4  New York       SUMMIT One Vanderbilt Ticket   \n",
       "\n",
       "                                         description           duration  \\\n",
       "0  Digital art installations and views of New Yor...  Duration: 2 hours   \n",
       "1  Chance to visit a memorial and museum that's d...                NaN   \n",
       "2  A sightseeing pass to explore Big Apple attrac...                NaN   \n",
       "3  A narrated cruise with views of the Statue of ...                NaN   \n",
       "4  Opportunity to go on an immersive multisensory...                NaN   \n",
       "\n",
       "   rating  reviews       price  \\\n",
       "0     4.7      4.7   CAD 63.57   \n",
       "1     4.8      4.8   CAD 36.66   \n",
       "2     4.5      4.5  CAD 198.23   \n",
       "3     3.8      3.8   CAD 21.72   \n",
       "4     4.5      4.5   CAD 63.57   \n",
       "\n",
       "                                                link  \\\n",
       "0  /attractions/us/prcmokyuz7um-summit-one-vander...   \n",
       "1  /attractions/us/prgstbyhf5aj-911-memorial-muse...   \n",
       "2  /attractions/us/prj7dhkaezyz-new-york-city-pas...   \n",
       "3  /attractions/us/prulfebtv6ii-one-hour-sightsee...   \n",
       "4  /attractions/us/pr3zhwuklbbp-summit-one-vander...   \n",
       "\n",
       "                                           image_url  \n",
       "0  https://r-xx.bstatic.com/xdata/images/xphoto/3...  \n",
       "1  https://r-xx.bstatic.com/xdata/images/xphoto/3...  \n",
       "2  https://r-xx.bstatic.com/xdata/images/xphoto/3...  \n",
       "3  https://q-xx.bstatic.com/xdata/images/xphoto/3...  \n",
       "4  https://q-xx.bstatic.com/xdata/images/xphoto/3...  "
      ]
     },
     "execution_count": 9,
     "metadata": {},
     "output_type": "execute_result"
    }
   ],
   "source": [
    "df = pd.read_csv('../data/raw/city_attractions.csv')\n",
    "df.head()"
   ]
  },
  {
   "cell_type": "code",
   "execution_count": 10,
   "metadata": {},
   "outputs": [],
   "source": [
    "driver = webdriver.Chrome()"
   ]
  },
  {
   "cell_type": "code",
   "execution_count": 11,
   "metadata": {},
   "outputs": [],
   "source": [
    "def scrape_content(city_name, url):\n",
    "\n",
    "    driver.get(url)\n",
    "    wait = WebDriverWait(driver, 20)\n",
    "    soup = BeautifulSoup(driver.page_source, 'html.parser')\n",
    "    \n",
    "    desc = soup.find('div', class_='css-n9kgwt')\n",
    "    desc = desc.text if desc is not None else \"\"\n",
    "    \n",
    "    why_visit_div = soup.find('div', class_='css-1a8s82q')\n",
    "    why_visit_text = ''\n",
    "    if why_visit_div is not None:\n",
    "        why_visit = why_visit_div.find_all('li', class_='f660aace8b f846ce2e52')\n",
    "        if why_visit is not None:\n",
    "            why_visit_text = [li.text for li in why_visit]\n",
    "    \n",
    "    \n",
    "    whats_included_div = soup.find('div', class_='bcdcb105b3 f660aace8b css-51s7b5')\n",
    "    whats_included_text = ''\n",
    "    if whats_included_div is not None:\n",
    "        whats_included = whats_included_div.find_all('li', class_='f660aace8b f846ce2e52')\n",
    "        if whats_included is not None:\n",
    "            whats_included_text = [li.text for li in whats_included]\n",
    "            \n",
    "    whats_not_included_div = soup.find_all('div', class_='bcdcb105b3 f660aace8b css-51s7b5')\n",
    "    whats_not_included_text = ''\n",
    "    if whats_not_included_div is not None and len(whats_not_included_div) > 1:\n",
    "        whats_not_included = whats_not_included_div[1].find_all('li', class_='f660aace8b f846ce2e52')\n",
    "        if whats_not_included is not None:\n",
    "            whats_not_included_text = [li.text for li in whats_not_included]\n",
    "            \n",
    "            \n",
    "    restrictions_div = soup.find_all('div', class_='css-1a8s82q')\n",
    "    restrictions_text = ''\n",
    "    if restrictions_div is not None and len(restrictions_div) > 1:\n",
    "        restrictions = restrictions_div[1].find_all('li', class_='a8b57ad3ff d50c412d31 fb9a5438f9 c7a5a1307a')\n",
    "        if restrictions is not None:\n",
    "            restrictions_text = [li.text for li in restrictions]\n",
    "            print(restrictions_text)\n",
    "            \n",
    "    \n",
    "    additional_div = soup.find_all('div', class_='css-1a8s82q')\n",
    "    additional_text = ''\n",
    "    if additional_div is not None and len(additional_div) > 2:\n",
    "        additional = additional_div[2].find_all('div')\n",
    "        if additional is not None:\n",
    "            additional_text = [li.text for li in additional]\n",
    "            print(additional_text)\n",
    "            \n",
    "    \n",
    "    location_div = soup.find('div', class_='f660aace8b f81ab4937d')\n",
    "    location_text = location_div.text if location_div is not None else \"\"\n",
    "    \n",
    "    return {\n",
    "        'city_name': city_name,\n",
    "        'description': desc,\n",
    "        'why_visit': why_visit_text,\n",
    "        'whats_included': whats_included_text,\n",
    "        'whats_not_included': whats_not_included_text,\n",
    "        'restrictions': restrictions_text,\n",
    "        'additional_info': additional_text,\n",
    "        'location': location_text\n",
    "    }    \n",
    "    "
   ]
  },
  {
   "cell_type": "code",
   "execution_count": 12,
   "metadata": {},
   "outputs": [
    {
     "name": "stdout",
     "output_type": "stream",
     "text": [
      "['Comfortable footwear is recommended.']\n",
      "['Children aged 0–5 years can join for free.\\rPlease note that some rooms and installations have mirrored floors. Please dress comfortably and in accordance with the tour. Trousers, shorts or tights are recommended. Sunglasses are recommended for day visits. Note that stiletto heels, steel-toe boots and any footwear that could cause damage to the mirrored floors are not allowed on this tour.\\rPlease note that there is no storage for personal items. Large bags, large backpacks and luggage are not permitted on this tour.\\rProfessional photographs are available to purchase in print and digital format at the end of the experience.\\rPlease bring your ticket with you to the attraction.\\rShow more', 'Show more']\n"
     ]
    },
    {
     "ename": "IndexError",
     "evalue": "list index out of range",
     "output_type": "error",
     "traceback": [
      "\u001b[0;31m---------------------------------------------------------------------------\u001b[0m",
      "\u001b[0;31mIndexError\u001b[0m                                Traceback (most recent call last)",
      "Cell \u001b[0;32mIn[12], line 5\u001b[0m\n\u001b[1;32m      3\u001b[0m city_name \u001b[38;5;241m=\u001b[39m destination[\u001b[38;5;124m'\u001b[39m\u001b[38;5;124mname\u001b[39m\u001b[38;5;124m'\u001b[39m]\n\u001b[1;32m      4\u001b[0m attraction_url \u001b[38;5;241m=\u001b[39m base_url \u001b[38;5;241m+\u001b[39m destination[\u001b[38;5;124m'\u001b[39m\u001b[38;5;124mlink\u001b[39m\u001b[38;5;124m'\u001b[39m]\n\u001b[0;32m----> 5\u001b[0m city_attraction \u001b[38;5;241m=\u001b[39m scrape_content(city_name, attraction_url)\n\u001b[1;32m      6\u001b[0m all_attractions\u001b[38;5;241m.\u001b[39mappend(city_attraction)\n",
      "Cell \u001b[0;32mIn[11], line 28\u001b[0m, in \u001b[0;36mscrape_content\u001b[0;34m(city_name, url)\u001b[0m\n\u001b[1;32m     26\u001b[0m whats_not_included_text \u001b[38;5;241m=\u001b[39m \u001b[38;5;124m'\u001b[39m\u001b[38;5;124m'\u001b[39m\n\u001b[1;32m     27\u001b[0m \u001b[38;5;28;01mif\u001b[39;00m whats_not_included_div \u001b[38;5;129;01mis\u001b[39;00m \u001b[38;5;129;01mnot\u001b[39;00m \u001b[38;5;28;01mNone\u001b[39;00m:\n\u001b[0;32m---> 28\u001b[0m     \u001b[38;5;28;01mif\u001b[39;00m whats_not_included_div[\u001b[38;5;241m1\u001b[39m] \u001b[38;5;129;01mis\u001b[39;00m \u001b[38;5;129;01mnot\u001b[39;00m \u001b[38;5;28;01mNone\u001b[39;00m:\n\u001b[1;32m     29\u001b[0m         whats_not_included \u001b[38;5;241m=\u001b[39m whats_not_included_div[\u001b[38;5;241m1\u001b[39m]\u001b[38;5;241m.\u001b[39mfind_all(\u001b[38;5;124m'\u001b[39m\u001b[38;5;124mli\u001b[39m\u001b[38;5;124m'\u001b[39m, class_\u001b[38;5;241m=\u001b[39m\u001b[38;5;124m'\u001b[39m\u001b[38;5;124mf660aace8b f846ce2e52\u001b[39m\u001b[38;5;124m'\u001b[39m)\n\u001b[1;32m     30\u001b[0m         \u001b[38;5;28;01mif\u001b[39;00m whats_not_included \u001b[38;5;129;01mis\u001b[39;00m \u001b[38;5;129;01mnot\u001b[39;00m \u001b[38;5;28;01mNone\u001b[39;00m:\n",
      "\u001b[0;31mIndexError\u001b[0m: list index out of range"
     ]
    }
   ],
   "source": [
    "all_attractions = []\n",
    "for i, destination in df.iterrows():\n",
    "    city_name = destination['name']\n",
    "    attraction_url = base_url + destination['link']\n",
    "    city_attraction = scrape_content(city_name, attraction_url)\n",
    "    all_attractions.append(city_attraction)"
   ]
  },
  {
   "cell_type": "code",
   "execution_count": null,
   "metadata": {},
   "outputs": [
    {
     "data": {
      "text/plain": [
       "[{'city_name': 'SUMMIT One Vanderbilt Tickets',\n",
       "  'description': 'With this ticket to the Summit One Vanderbilt, you’ll see futuristic digital shows inside one of New York’s newest skyscrapers. You’ll also take in views of Manhattan from a height of 370 metres. \\r As you explore three levels of multi-sensory galleries inside the skyscraper, you’ll see digital art installations by internationally acclaimed artists and designers. You’ll see works inspired by stories, optical illusions and interactivity. You’ll also see the busy streets below the building during the ‘Levitation’ experience, which involves standing on a transparent platform over 300 metres above the ground. \\r When you reach the SUMMIT Terrace, you can see New York’s skyline and views for up to 80 miles. You can also order cocktails and light fare from Café Après.',\n",
       "  'why_visit': ['Three floors of multi-sensory immersive experiences at the top of a skyscraper',\n",
       "   'Panoramic views of New York and landmarks like the Empire State Building',\n",
       "   'Futuristic observation deck that combines elements of art and technology'],\n",
       "  'whats_included': ['Admission', 'Levitation experience'],\n",
       "  'whats_not_included': ['Ascent experience', 'Food and drinks'],\n",
       "  'restrictions': ['Comfortable footwear is recommended.'],\n",
       "  'additional_info': ['Children aged 0–5 years can join for free.\\rPlease note that some rooms and installations have mirrored floors. Please dress comfortably and in accordance with the tour. Trousers, shorts or tights are recommended. Sunglasses are recommended for day visits. Note that stiletto heels, steel-toe boots and any footwear that could cause damage to the mirrored floors are not allowed on this tour.\\rPlease note that there is no storage for personal items. Large bags, large backpacks and luggage are not permitted on this tour.\\rProfessional photographs are available to purchase in print and digital format at the end of the experience.\\rPlease bring your ticket with you to the attraction.\\rShow more',\n",
       "   'Show more'],\n",
       "  'location': 'SUMMIT One Vanderbilt Tickets45 East 42nd Street, New York, NYPlease arrive at Summit One Vanderbilt. The entrance is located on the Main Concourse of Grand Central Terminal.'}]"
      ]
     },
     "execution_count": 69,
     "metadata": {},
     "output_type": "execute_result"
    }
   ],
   "source": [
    "all_attractions"
   ]
  },
  {
   "cell_type": "code",
   "execution_count": null,
   "metadata": {},
   "outputs": [
    {
     "name": "stdout",
     "output_type": "stream",
     "text": [
      "(1, 8)\n"
     ]
    },
    {
     "data": {
      "text/html": [
       "<div>\n",
       "<style scoped>\n",
       "    .dataframe tbody tr th:only-of-type {\n",
       "        vertical-align: middle;\n",
       "    }\n",
       "\n",
       "    .dataframe tbody tr th {\n",
       "        vertical-align: top;\n",
       "    }\n",
       "\n",
       "    .dataframe thead th {\n",
       "        text-align: right;\n",
       "    }\n",
       "</style>\n",
       "<table border=\"1\" class=\"dataframe\">\n",
       "  <thead>\n",
       "    <tr style=\"text-align: right;\">\n",
       "      <th></th>\n",
       "      <th>city_name</th>\n",
       "      <th>description</th>\n",
       "      <th>why_visit</th>\n",
       "      <th>whats_included</th>\n",
       "      <th>whats_not_included</th>\n",
       "      <th>restrictions</th>\n",
       "      <th>additional_info</th>\n",
       "      <th>location</th>\n",
       "    </tr>\n",
       "  </thead>\n",
       "  <tbody>\n",
       "    <tr>\n",
       "      <th>0</th>\n",
       "      <td>SUMMIT One Vanderbilt Tickets</td>\n",
       "      <td>With this ticket to the Summit One Vanderbilt,...</td>\n",
       "      <td>[Three floors of multi-sensory immersive exper...</td>\n",
       "      <td>[Admission, Levitation experience]</td>\n",
       "      <td>[Ascent experience, Food and drinks]</td>\n",
       "      <td>[Comfortable footwear is recommended.]</td>\n",
       "      <td>[Children aged 0–5 years can join for free.\\rP...</td>\n",
       "      <td>SUMMIT One Vanderbilt Tickets45 East 42nd Stre...</td>\n",
       "    </tr>\n",
       "  </tbody>\n",
       "</table>\n",
       "</div>"
      ],
      "text/plain": [
       "                       city_name  \\\n",
       "0  SUMMIT One Vanderbilt Tickets   \n",
       "\n",
       "                                         description  \\\n",
       "0  With this ticket to the Summit One Vanderbilt,...   \n",
       "\n",
       "                                           why_visit  \\\n",
       "0  [Three floors of multi-sensory immersive exper...   \n",
       "\n",
       "                       whats_included                    whats_not_included  \\\n",
       "0  [Admission, Levitation experience]  [Ascent experience, Food and drinks]   \n",
       "\n",
       "                             restrictions  \\\n",
       "0  [Comfortable footwear is recommended.]   \n",
       "\n",
       "                                     additional_info  \\\n",
       "0  [Children aged 0–5 years can join for free.\\rP...   \n",
       "\n",
       "                                            location  \n",
       "0  SUMMIT One Vanderbilt Tickets45 East 42nd Stre...  "
      ]
     },
     "execution_count": 72,
     "metadata": {},
     "output_type": "execute_result"
    }
   ],
   "source": [
    "df = pd.DataFrame(all_attractions)\n",
    "print(df.shape)\n",
    "df.head()"
   ]
  },
  {
   "cell_type": "code",
   "execution_count": null,
   "metadata": {},
   "outputs": [],
   "source": [
    "df.to_csv('../data/raw/city_attractions_details.csv', index=False)"
   ]
  }
 ],
 "metadata": {
  "kernelspec": {
   "display_name": "Python 3",
   "language": "python",
   "name": "python3"
  },
  "language_info": {
   "codemirror_mode": {
    "name": "ipython",
    "version": 3
   },
   "file_extension": ".py",
   "mimetype": "text/x-python",
   "name": "python",
   "nbconvert_exporter": "python",
   "pygments_lexer": "ipython3",
   "version": "3.11.5"
  }
 },
 "nbformat": 4,
 "nbformat_minor": 2
}
